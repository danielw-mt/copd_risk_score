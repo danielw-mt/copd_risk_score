{
 "cells": [
  {
   "cell_type": "code",
   "execution_count": 5,
   "metadata": {},
   "outputs": [
    {
     "ename": "ImportError",
     "evalue": "cannot import name 'Input' from 'keras.models' (c:\\Users\\Daniel\\AppData\\Local\\Programs\\Python\\Python310\\lib\\site-packages\\keras\\models\\__init__.py)",
     "output_type": "error",
     "traceback": [
      "\u001b[1;31m---------------------------------------------------------------------------\u001b[0m",
      "\u001b[1;31mImportError\u001b[0m                               Traceback (most recent call last)",
      "Cell \u001b[1;32mIn[5], line 5\u001b[0m\n\u001b[0;32m      3\u001b[0m \u001b[39mfrom\u001b[39;00m \u001b[39mkeras\u001b[39;00m\u001b[39m.\u001b[39;00m\u001b[39minitializers\u001b[39;00m \u001b[39mimport\u001b[39;00m RandomNormal\n\u001b[0;32m      4\u001b[0m \u001b[39mfrom\u001b[39;00m \u001b[39mkeras\u001b[39;00m\u001b[39m.\u001b[39;00m\u001b[39mmodels\u001b[39;00m \u001b[39mimport\u001b[39;00m Model\n\u001b[1;32m----> 5\u001b[0m \u001b[39mfrom\u001b[39;00m \u001b[39mkeras\u001b[39;00m\u001b[39m.\u001b[39;00m\u001b[39mmodels\u001b[39;00m \u001b[39mimport\u001b[39;00m Input\n\u001b[0;32m      6\u001b[0m \u001b[39mfrom\u001b[39;00m \u001b[39mkeras\u001b[39;00m\u001b[39m.\u001b[39;00m\u001b[39mlayers\u001b[39;00m \u001b[39mimport\u001b[39;00m Conv2D\n\u001b[0;32m      7\u001b[0m \u001b[39mfrom\u001b[39;00m \u001b[39mkeras\u001b[39;00m\u001b[39m.\u001b[39;00m\u001b[39mlayers\u001b[39;00m \u001b[39mimport\u001b[39;00m LeakyReLU\n",
      "\u001b[1;31mImportError\u001b[0m: cannot import name 'Input' from 'keras.models' (c:\\Users\\Daniel\\AppData\\Local\\Programs\\Python\\Python310\\lib\\site-packages\\keras\\models\\__init__.py)"
     ]
    }
   ],
   "source": []
  },
  {
   "cell_type": "code",
   "execution_count": 3,
   "metadata": {},
   "outputs": [],
   "source": [
    "# load data\n",
    "harvard = pd.read_csv('./data/harvard_harmonized.csv', sep=\";\", decimal=\",\")\n",
    "triage = pd.read_csv('./data/triage_harmonized.csv', sep=\";\", decimal=\",\")"
   ]
  },
  {
   "cell_type": "code",
   "execution_count": 4,
   "metadata": {},
   "outputs": [
    {
     "ename": "NameError",
     "evalue": "name 'RandomNormal' is not defined",
     "output_type": "error",
     "traceback": [
      "\u001b[1;31m---------------------------------------------------------------------------\u001b[0m",
      "\u001b[1;31mNameError\u001b[0m                                 Traceback (most recent call last)",
      "Cell \u001b[1;32mIn[4], line 37\u001b[0m\n\u001b[0;32m     35\u001b[0m image_shape \u001b[39m=\u001b[39m (\u001b[39m256\u001b[39m,\u001b[39m256\u001b[39m,\u001b[39m3\u001b[39m)\n\u001b[0;32m     36\u001b[0m \u001b[39m# create the model\u001b[39;00m\n\u001b[1;32m---> 37\u001b[0m model \u001b[39m=\u001b[39m define_discriminator(image_shape)\n\u001b[0;32m     38\u001b[0m \u001b[39m# summarize the model\u001b[39;00m\n\u001b[0;32m     39\u001b[0m model\u001b[39m.\u001b[39msummary()\n",
      "Cell \u001b[1;32mIn[4], line 4\u001b[0m, in \u001b[0;36mdefine_discriminator\u001b[1;34m(image_shape)\u001b[0m\n\u001b[0;32m      2\u001b[0m \u001b[39mdef\u001b[39;00m \u001b[39mdefine_discriminator\u001b[39m(image_shape):\n\u001b[0;32m      3\u001b[0m     \u001b[39m# weight initialization\u001b[39;00m\n\u001b[1;32m----> 4\u001b[0m     init \u001b[39m=\u001b[39m RandomNormal(stddev\u001b[39m=\u001b[39m\u001b[39m0.02\u001b[39m)\n\u001b[0;32m      5\u001b[0m     \u001b[39m# source image input\u001b[39;00m\n\u001b[0;32m      6\u001b[0m     in_image \u001b[39m=\u001b[39m Input(shape\u001b[39m=\u001b[39mimage_shape)\n",
      "\u001b[1;31mNameError\u001b[0m: name 'RandomNormal' is not defined"
     ]
    }
   ],
   "source": []
  }
 ],
 "metadata": {
  "kernelspec": {
   "display_name": "Python 3",
   "language": "python",
   "name": "python3"
  },
  "language_info": {
   "codemirror_mode": {
    "name": "ipython",
    "version": 3
   },
   "file_extension": ".py",
   "mimetype": "text/x-python",
   "name": "python",
   "nbconvert_exporter": "python",
   "pygments_lexer": "ipython3",
   "version": "3.10.7"
  },
  "orig_nbformat": 4
 },
 "nbformat": 4,
 "nbformat_minor": 2
}
