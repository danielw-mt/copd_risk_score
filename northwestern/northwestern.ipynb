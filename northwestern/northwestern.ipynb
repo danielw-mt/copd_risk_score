{
 "cells": [
  {
   "cell_type": "code",
   "execution_count": 2,
   "metadata": {},
   "outputs": [],
   "source": [
    "import pandas as pd\n",
    "import numpy as np\n",
    "import matplotlib.pyplot as plt\n",
    "from sklearn.preprocessing import MinMaxScaler\n",
    "from pandas import DataFrame, concat\n",
    "from pandas import DataFrame\n",
    "import matplotlib.pyplot as plt\n",
    "from sklearn.experimental import enable_iterative_imputer\n",
    "from sklearn.impute import IterativeImputer\n",
    "from imblearn.over_sampling import SMOTE\n",
    "from sklearn.model_selection import train_test_split"
   ]
  },
  {
   "cell_type": "code",
   "execution_count": 49,
   "metadata": {},
   "outputs": [
    {
     "name": "stdout",
     "output_type": "stream",
     "text": [
      "Dropped columns with more than 90% missing values: \n",
      "{'living', 'ysked', 'clinic10now1_t', 'quita', 'a2_cexan', 'ybeg', 'sked', 'yske', 'psked', 'cigar', 'sterdinhal', 'wquit', 'frequ', 'quitd'}\n"
     ]
    }
   ],
   "source": [
    "northwestern = pd.read_csv('original_data.csv', sep=\";\")\n",
    "\n",
    "# drop all \"unnecessary\" columns\n",
    "northwestern = northwestern[northwestern.columns.drop(list(northwestern.filter(regex='facit')))]\n",
    "northwestern = northwestern[northwestern.columns.drop(list(northwestern.filter(regex='randx')))]\n",
    "northwestern = northwestern[northwestern.columns.drop(list(northwestern.filter(regex='hadsx')))]\n",
    "northwestern = northwestern[northwestern.columns.drop(list(northwestern.filter(regex='crqsasx')))]\n",
    "northwestern = northwestern[northwestern.columns.drop(list(northwestern.filter(regex='eth')))]\n",
    "# keep a2sexan column\n",
    "a2sexan = northwestern['a2_cexan']\n",
    "northwestern = northwestern[northwestern.columns.drop(list(northwestern.filter(regex='a2')))]\n",
    "northwestern['a2_cexan'] = a2sexan\n",
    "\n",
    "\n",
    "other_unnecessary_variables = [\"CaseID\", \"copdmonth\", \"copdday\", \"copdyear\",  \"STARTTIME\", \"ENDTIME\", \"clinic10ever1_t\", \"othermeds1_t\"]\n",
    "northwestern = northwestern.drop(other_unnecessary_variables, axis=1)\n",
    "# drop all columns with more than 90% missing values. Print the dropped columns\n",
    "\n",
    "# keep only the rows where ds1 contains the word COPD\n",
    "# northwestern = northwestern[northwestern['ds1'].str.contains(\"COPD\")]\n",
    "# drop ds1\n",
    "northwestern = northwestern.drop([\"ds1\"], axis=1)\n",
    "\n",
    "# get the feet from the height column\n",
    "northwestern['feet'] = northwestern['height'].str.split('\\'', expand=True)[0]\n",
    "# get the inches from the height column\n",
    "northwestern['inches'] = northwestern['height'].str.split('\\'', expand=True)[1]\n",
    "# if inches is '' then set it to 0\n",
    "northwestern['inches'] = northwestern['inches'].replace('', 0)\n",
    "\n",
    "# convert feet and inches to cm\n",
    "northwestern['height'] = (northwestern['feet'].astype(float)*30.48 + northwestern['inches'].astype(float)*2.54).round(2)\n",
    "# drop feet and inches\n",
    "northwestern = northwestern.drop([\"feet\", \"inches\"], axis=1)\n",
    "\n",
    "# remove the string characters from weight\n",
    "northwestern['weight'] = northwestern['weight'].str.replace(\" lbs\", '')\n",
    "# convert weight to kg\n",
    "northwestern['weight'] = (northwestern['weight'].astype(float)*0.45359237).round(2)\n",
    "\n",
    "# convert categorical values in these columns to numbers: mrexan, smrexan, assyn, mrcx1, birthyr, gender\tmarstat, educat, occst, income using cat.codes\n",
    "northwestern['mrexan'] = northwestern['mrexan'].astype('category').cat.codes\n",
    "northwestern['smrexan'] = northwestern['smrexan'].astype('category').cat.codes\n",
    "northwestern['assyn'] = northwestern['assyn'].astype('category').cat.codes\n",
    "northwestern['mrcx1'] = northwestern['mrcx1'].astype('category').cat.codes\n",
    "northwestern['birthyr'] = northwestern['birthyr'].astype('category').cat.codes\n",
    "northwestern['gender'] = northwestern['gender'].astype('category').cat.codes\n",
    "northwestern['marstat'] = northwestern['marstat'].astype('category').cat.codes\n",
    "northwestern['educat'] = northwestern['educat'].astype('category').cat.codes\n",
    "northwestern['occst'] = northwestern['occst'].astype('category').cat.codes\n",
    "northwestern['income'] = northwestern['income'].astype('category').cat.codes\n",
    "\n",
    "\n",
    "\n",
    "print(\"Dropped columns with more than 90% missing values: \")\n",
    "print(set(northwestern.columns).symmetric_difference(set(northwestern.dropna(thresh=0.9*len(northwestern), axis=1).columns)))\n",
    "northwestern = northwestern.dropna(thresh=0.9*len(northwestern), axis=1)\n",
    "\n",
    "# turn No into 0 and Yes into 1\n",
    "northwestern = northwestern.replace(to_replace=\"No\", value=0)\n",
    "northwestern = northwestern.replace(to_replace=\"Yes\", value=1)\n",
    "\n",
    "# impute all missing values using mode\n",
    "northwestern = northwestern.fillna(northwestern.mode().iloc[0])\n",
    "\n",
    "# export\n",
    "northwestern.to_csv('northwestern_preprocessed.csv', index=False, sep=\";\")\n"
   ]
  },
  {
   "attachments": {},
   "cell_type": "markdown",
   "metadata": {},
   "source": [
    "# Classification"
   ]
  },
  {
   "cell_type": "code",
   "execution_count": 50,
   "metadata": {},
   "outputs": [
    {
     "ename": "KeyError",
     "evalue": "'a2_cexan'",
     "output_type": "error",
     "traceback": [
      "\u001b[1;31m---------------------------------------------------------------------------\u001b[0m",
      "\u001b[1;31mKeyError\u001b[0m                                  Traceback (most recent call last)",
      "File \u001b[1;32mc:\\Users\\Daniel\\AppData\\Local\\Programs\\Python\\Python310\\lib\\site-packages\\pandas\\core\\indexes\\base.py:3629\u001b[0m, in \u001b[0;36mIndex.get_loc\u001b[1;34m(self, key, method, tolerance)\u001b[0m\n\u001b[0;32m   3628\u001b[0m \u001b[39mtry\u001b[39;00m:\n\u001b[1;32m-> 3629\u001b[0m     \u001b[39mreturn\u001b[39;00m \u001b[39mself\u001b[39;49m\u001b[39m.\u001b[39;49m_engine\u001b[39m.\u001b[39;49mget_loc(casted_key)\n\u001b[0;32m   3630\u001b[0m \u001b[39mexcept\u001b[39;00m \u001b[39mKeyError\u001b[39;00m \u001b[39mas\u001b[39;00m err:\n",
      "File \u001b[1;32mc:\\Users\\Daniel\\AppData\\Local\\Programs\\Python\\Python310\\lib\\site-packages\\pandas\\_libs\\index.pyx:136\u001b[0m, in \u001b[0;36mpandas._libs.index.IndexEngine.get_loc\u001b[1;34m()\u001b[0m\n",
      "File \u001b[1;32mc:\\Users\\Daniel\\AppData\\Local\\Programs\\Python\\Python310\\lib\\site-packages\\pandas\\_libs\\index.pyx:163\u001b[0m, in \u001b[0;36mpandas._libs.index.IndexEngine.get_loc\u001b[1;34m()\u001b[0m\n",
      "File \u001b[1;32mpandas\\_libs\\hashtable_class_helper.pxi:5198\u001b[0m, in \u001b[0;36mpandas._libs.hashtable.PyObjectHashTable.get_item\u001b[1;34m()\u001b[0m\n",
      "File \u001b[1;32mpandas\\_libs\\hashtable_class_helper.pxi:5206\u001b[0m, in \u001b[0;36mpandas._libs.hashtable.PyObjectHashTable.get_item\u001b[1;34m()\u001b[0m\n",
      "\u001b[1;31mKeyError\u001b[0m: 'a2_cexan'",
      "\nThe above exception was the direct cause of the following exception:\n",
      "\u001b[1;31mKeyError\u001b[0m                                  Traceback (most recent call last)",
      "Cell \u001b[1;32mIn[50], line 10\u001b[0m\n\u001b[0;32m      7\u001b[0m \u001b[39mfrom\u001b[39;00m \u001b[39mlazypredict\u001b[39;00m\u001b[39m.\u001b[39;00m\u001b[39mSupervised\u001b[39;00m \u001b[39mimport\u001b[39;00m LazyClassifier\n\u001b[0;32m      9\u001b[0m \u001b[39m# drop the target variable from the train set\u001b[39;00m\n\u001b[1;32m---> 10\u001b[0m target \u001b[39m=\u001b[39m northwestern[\u001b[39m'\u001b[39;49m\u001b[39ma2_cexan\u001b[39;49m\u001b[39m'\u001b[39;49m]\n\u001b[0;32m     12\u001b[0m \u001b[39m# create a train and test set\u001b[39;00m\n\u001b[0;32m     13\u001b[0m train \u001b[39m=\u001b[39m northwestern\u001b[39m.\u001b[39mdrop([\u001b[39m'\u001b[39m\u001b[39ma2_cexan\u001b[39m\u001b[39m'\u001b[39m], axis\u001b[39m=\u001b[39m\u001b[39m1\u001b[39m)\n",
      "File \u001b[1;32mc:\\Users\\Daniel\\AppData\\Local\\Programs\\Python\\Python310\\lib\\site-packages\\pandas\\core\\frame.py:3505\u001b[0m, in \u001b[0;36mDataFrame.__getitem__\u001b[1;34m(self, key)\u001b[0m\n\u001b[0;32m   3503\u001b[0m \u001b[39mif\u001b[39;00m \u001b[39mself\u001b[39m\u001b[39m.\u001b[39mcolumns\u001b[39m.\u001b[39mnlevels \u001b[39m>\u001b[39m \u001b[39m1\u001b[39m:\n\u001b[0;32m   3504\u001b[0m     \u001b[39mreturn\u001b[39;00m \u001b[39mself\u001b[39m\u001b[39m.\u001b[39m_getitem_multilevel(key)\n\u001b[1;32m-> 3505\u001b[0m indexer \u001b[39m=\u001b[39m \u001b[39mself\u001b[39;49m\u001b[39m.\u001b[39;49mcolumns\u001b[39m.\u001b[39;49mget_loc(key)\n\u001b[0;32m   3506\u001b[0m \u001b[39mif\u001b[39;00m is_integer(indexer):\n\u001b[0;32m   3507\u001b[0m     indexer \u001b[39m=\u001b[39m [indexer]\n",
      "File \u001b[1;32mc:\\Users\\Daniel\\AppData\\Local\\Programs\\Python\\Python310\\lib\\site-packages\\pandas\\core\\indexes\\base.py:3631\u001b[0m, in \u001b[0;36mIndex.get_loc\u001b[1;34m(self, key, method, tolerance)\u001b[0m\n\u001b[0;32m   3629\u001b[0m     \u001b[39mreturn\u001b[39;00m \u001b[39mself\u001b[39m\u001b[39m.\u001b[39m_engine\u001b[39m.\u001b[39mget_loc(casted_key)\n\u001b[0;32m   3630\u001b[0m \u001b[39mexcept\u001b[39;00m \u001b[39mKeyError\u001b[39;00m \u001b[39mas\u001b[39;00m err:\n\u001b[1;32m-> 3631\u001b[0m     \u001b[39mraise\u001b[39;00m \u001b[39mKeyError\u001b[39;00m(key) \u001b[39mfrom\u001b[39;00m \u001b[39merr\u001b[39;00m\n\u001b[0;32m   3632\u001b[0m \u001b[39mexcept\u001b[39;00m \u001b[39mTypeError\u001b[39;00m:\n\u001b[0;32m   3633\u001b[0m     \u001b[39m# If we have a listlike key, _check_indexing_error will raise\u001b[39;00m\n\u001b[0;32m   3634\u001b[0m     \u001b[39m#  InvalidIndexError. Otherwise we fall through and re-raise\u001b[39;00m\n\u001b[0;32m   3635\u001b[0m     \u001b[39m#  the TypeError.\u001b[39;00m\n\u001b[0;32m   3636\u001b[0m     \u001b[39mself\u001b[39m\u001b[39m.\u001b[39m_check_indexing_error(key)\n",
      "\u001b[1;31mKeyError\u001b[0m: 'a2_cexan'"
     ]
    }
   ],
   "source": [
    "\n",
    "# train a random forest classifier\n",
    "from sklearn.ensemble import RandomForestClassifier\n",
    "from sklearn.metrics import accuracy_score\n",
    "from sklearn.metrics import confusion_matrix\n",
    "from sklearn.metrics import classification_report\n",
    "from yellowbrick.model_selection import FeatureImportances\n",
    "from lazypredict.Supervised import LazyClassifier\n",
    "\n",
    "# drop the target variable from the train set\n",
    "target = northwestern['a2_cexan']\n",
    "\n",
    "# create a train and test set\n",
    "train = northwestern.drop(['a2_cexan'], axis=1)\n",
    "X_train, X_test, y_train, y_test = train_test_split(train, target, test_size=0.2, random_state=42)\n",
    "\n",
    "clf = LazyClassifier(verbose=0, ignore_warnings=True, custom_metric=None)\n",
    "models, predictions = clf.fit(X_train, X_test, y_train, y_test)\n",
    "models\n",
    "\n",
    "\n",
    "# train the model\n",
    "# rf = RandomForestClassifier(n_estimators=10, random_state=42)\n",
    "# rf.fit(X_train, y_train)\n",
    "\n",
    "# predict\n",
    "# y_pred = rf.predict(X_test)\n",
    "\n",
    "# evaluate\n",
    "# print(\"Accuracy: \", accuracy_score(y_test, y_pred))\n",
    "# print(\"Confusion matrix: \\n\", confusion_matrix(y_test, y_pred))\n",
    "# print(\"Classification report: \\n\", classification_report(y_test, y_pred))\n",
    "\n",
    "# # feature importance\n",
    "# viz = FeatureImportances(rf)\n",
    "# viz.fit(X_train, y_train)\n",
    "# viz.show()"
   ]
  }
 ],
 "metadata": {
  "kernelspec": {
   "display_name": "Python 3",
   "language": "python",
   "name": "python3"
  },
  "language_info": {
   "codemirror_mode": {
    "name": "ipython",
    "version": 3
   },
   "file_extension": ".py",
   "mimetype": "text/x-python",
   "name": "python",
   "nbconvert_exporter": "python",
   "pygments_lexer": "ipython3",
   "version": "3.10.7"
  },
  "orig_nbformat": 4
 },
 "nbformat": 4,
 "nbformat_minor": 2
}
