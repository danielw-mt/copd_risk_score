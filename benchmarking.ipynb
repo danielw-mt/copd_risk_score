{
 "cells": [
  {
   "attachments": {},
   "cell_type": "markdown",
   "metadata": {},
   "source": [
    "In this notebook comparable models for predicting exacerbations will be benchmarked against the models developed in this thesis. The models of interest are:\n",
    "* ADO: age, dyspnoea, obstruction (https://www.dovepress.com/external-validation-of-the-updated-ado-score-in-copd-patients-from-the-peer-reviewed-fulltext-article-COPD)\n",
    "* BODE: bmi, obstruction, dyspnoea, exercise capacity (https://www.mdcalc.com/calc/3916/bode-index-copd-survival#evidence)\n",
    "* DOSE: dyspnoea, obstruction, smoking, exacerbations (https://www.nature.com/articles/pcrj201254/tables/1)\n",
    "* BCSS: breathlessness, cough, sputum scale (https://www.ncbi.nlm.nih.gov/pmc/articles/PMC5131613/)\n",
    "* previous exacerbations alone (current clinical standard)\n",
    "* CAT: COPD assessment test"
   ]
  },
  {
   "cell_type": "code",
   "execution_count": 5,
   "metadata": {},
   "outputs": [],
   "source": [
    "import pandas as pd\n",
    "import numpy as np\n",
    "import matplotlib.pyplot as plt\n",
    "from sklearn.preprocessing import MinMaxScaler\n",
    "from pandas import DataFrame, concat\n",
    "from pandas import DataFrame\n",
    "import matplotlib.pyplot as plt\n",
    "from sklearn.experimental import enable_iterative_imputer\n",
    "from sklearn.impute import IterativeImputer\n",
    "from imblearn.over_sampling import SMOTE\n",
    "from sklearn.model_selection import train_test_split"
   ]
  },
  {
   "attachments": {},
   "cell_type": "markdown",
   "metadata": {},
   "source": [
    "# Preparing Data"
   ]
  },
  {
   "cell_type": "code",
   "execution_count": 6,
   "metadata": {},
   "outputs": [],
   "source": [
    "exaggerate = pd.read_csv('exaggerate/data/working_sheet.csv', sep=\";\")"
   ]
  },
  {
   "cell_type": "code",
   "execution_count": 7,
   "metadata": {},
   "outputs": [
    {
     "name": "stdout",
     "output_type": "stream",
     "text": [
      "(2796, 926)\n",
      "['mmrc', 'dem02', 'dem03', 'bclinra202c_2', 'bclinra202c_5', 'fclinra08', 'bclinra14', 'bclinra01', 'bclinra02', 'bclinpt22', 'sgrq02', 'sgrq03', 'sgrq04', 'login', 'bclinpt04', 'bclinpt15', 'bclinpt07', 'bclinpt34', 'bclinpt28']\n",
      "['mmrc', 'age', 'gender', 'percent_fev1_1', 'percent_fev1_2', 'exacerbation', '6MWT', 'height', 'weight', 'prev_exacerbations', 'sgrq02', 'sgrq03', 'sgrq04', 'login', 'hypertension', 'diabetes', 'heart_failure', 'fever', 'dyspnoea']\n",
      "['mmrc', 'age', 'gender', 'percent_fev1_1', 'percent_fev1_2', 'exacerbation', '6MWT', 'height', 'weight', 'prev_exacerbations', 'sgrq02', 'sgrq03', 'sgrq04', 'hypertension', 'diabetes', 'heart_failure', 'fever', 'dyspnoea']\n",
      "mmrc                   0\n",
      "age                    0\n",
      "gender                 0\n",
      "exacerbation           0\n",
      "6MWT                  71\n",
      "height                 7\n",
      "weight                 6\n",
      "prev_exacerbations     0\n",
      "sgrq02                 0\n",
      "sgrq03                 1\n",
      "sgrq04                 2\n",
      "hypertension           8\n",
      "diabetes               9\n",
      "heart_failure          9\n",
      "fever                  1\n",
      "dyspnoea               0\n",
      "percent_fev1          31\n",
      "dtype: int64\n"
     ]
    },
    {
     "name": "stderr",
     "output_type": "stream",
     "text": [
      "C:\\Users\\Daniel\\AppData\\Local\\Temp\\ipykernel_2236\\4529406.py:2: DtypeWarning: Columns (3,26,218,247,251) have mixed types. Specify dtype option on import or set low_memory=False.\n",
      "  harvard = pd.read_csv('harvard/data/Original Data/original_data.csv', sep=\";\")\n"
     ]
    }
   ],
   "source": [
    "# prepare datasets\n",
    "harvard = pd.read_csv('harvard/data/Original Data/original_data.csv', sep=\";\")\n",
    "\n",
    "print(harvard.shape)\n",
    "relevant_variables = [\"mmrc\", 'dem02','dem03', 'bclinra202c_2', 'bclinra202c_5', 'fclinra08', 'bclinra14','bclinra01','bclinra02','bclinpt22', 'sgrq02','sgrq03','sgrq04', 'login', 'bclinpt04', 'bclinpt15', 'bclinpt07', 'bclinpt34', 'bclinpt28']\n",
    "# pretty print column list\n",
    "\n",
    "\n",
    "harvard = harvard[relevant_variables]\n",
    "print(harvard.columns.tolist())\n",
    "harvard = harvard.rename(columns={\"mmrc\": \"mmrc\", \"dem02\": \"age\", \"bclinra202c_2\": \"percent_fev1_1\", \"bclinra202c_5\": \"percent_fev1_2\", \"fclinra08\": \"exacerbation\", 'bclinra14': '6MWT', 'bclinra01':'height', 'bclinra02':'weight', 'bclinpt22': 'prev_exacerbations', 'dem03': 'gender', 'bclinpt19': 'cancer', 'bclinpt04': 'hypertension', 'bclinpt15': 'diabetes', 'bclinpt07': 'heart_failure', 'bclinra01': 'height', 'bclinra02': 'weight', 'bclinpt34': 'fever',  'bclinpt08':'myocardial_infarct', 'bclinpt09':'stroke', 'bclinpt28':'dyspnoea', 'bclinpt36': 'fast_breathing'})\n",
    "\n",
    "print(harvard.columns.tolist())\n",
    "\n",
    "# get the baseline\n",
    "# get all unique values in the login column\n",
    "unique_logins = harvard['login'].unique()\n",
    "# baseline dataframe has the same columns as the original dataset\n",
    "baseline = []\n",
    "for login in unique_logins:\n",
    "    # add the first row of the selection to the baseline dataset\n",
    "    baseline.append(harvard[harvard['login'] == login].iloc[0])\n",
    "# turn lists into dataframes but with columns from harvard dataset\n",
    "harvard = pd.DataFrame(baseline, columns=harvard.columns)\n",
    "harvard = harvard.drop(columns=['login'], axis=1)\n",
    "print(harvard.columns.tolist())\n",
    "\n",
    "# make mmrc start at 0\n",
    "harvard['mmrc'] = harvard['mmrc'] - 1\n",
    "# get rid of all rows with exacerbation = 3\n",
    "harvard = harvard[harvard['exacerbation'] != 3]\n",
    "# make exacerbation start at 0\n",
    "harvard['exacerbation'] = harvard['exacerbation'] - 1\n",
    "# if exacerbation is 1, make it 0 and vice versa\n",
    "harvard['exacerbation'] = 1 - harvard['exacerbation']\n",
    "# create percent_fev1 column\n",
    "harvard['percent_fev1'] = harvard['percent_fev1_1']\n",
    "# if percent_fev1_1 is nan, use percent_fev1_2\n",
    "harvard.loc[harvard['percent_fev1_1'].isnull(), 'percent_fev1'] = harvard['percent_fev1_2']\n",
    "# if percent_fev1_2 is larger than percent_fev1_1, use percent_fev1_2 for percent_fev1\n",
    "harvard.loc[harvard['percent_fev1_2'] > harvard['percent_fev1_1'], 'percent_fev1'] = harvard['percent_fev1_2']\n",
    "# drop percent_fev1_1 and percent_fev1_2\n",
    "harvard = harvard.drop(['percent_fev1_1', 'percent_fev1_2'], axis=1)\n",
    "\n",
    "# drop all rows where exacerbation is nan\n",
    "harvard = harvard.dropna(subset=['exacerbation'])\n",
    "\n",
    "# turn exacerbation into integer from float\n",
    "harvard['exacerbation'] = harvard['exacerbation'].astype(int)\n",
    "#print nan values\n",
    "print(harvard.isnull().sum())"
   ]
  },
  {
   "cell_type": "code",
   "execution_count": 8,
   "metadata": {},
   "outputs": [
    {
     "name": "stderr",
     "output_type": "stream",
     "text": [
      "c:\\Users\\Daniel\\AppData\\Local\\Programs\\Python\\Python310\\lib\\site-packages\\openpyxl\\worksheet\\_reader.py:329: UserWarning: Unknown extension is not supported and will be removed\n",
      "  warn(msg)\n",
      "C:\\Users\\Daniel\\AppData\\Local\\Temp\\ipykernel_2236\\9504646.py:75: UserWarning: This pattern is interpreted as a regular expression, and has match groups. To actually get the groups, use str.extract.\n",
      "  triage.loc[triage['Current Medication'].str.contains(medication, na=False), medication] = 1\n"
     ]
    }
   ],
   "source": [
    "triage = pd.read_excel('triage/data/data.xlsx')\n",
    "\n",
    "# dyspnoea, diabetes, cancer, bmi, age, stroke, myocardial infarct, mmrc, hypertension, heart_failure, gender, fever, fast_breathing\n",
    "\n",
    "# exaggerate = exaggerate.rename(columns={'sex': 'gender', 'dyspnoea_mMRC': 'mmrc', 'ami':'myocardial_infarct', 'cbd':'stroke', 'dyspnoea_yesno':'dyspnoea', target:'target'})\n",
    "\n",
    "# remove all empty rows\n",
    "triage = triage.dropna(how='all')\n",
    "\n",
    "# drop Alternate Diagnosis? (y/n), Final Triage 1 (1-4), Confidence 1 (%), Final Triage 2 (1-4), Confidence 2 (%), Highly Unrealistic Case (Y), Highly Uncertain (Y), Profile Severity (1-5)\n",
    "triage = triage.drop(columns=['Unnamed: 0', 'Alternate Diagnosis? (y/n)', 'Final Triage 1 (1-4)', 'Confidence 1 (%)', 'Final Triage 2 (1-4)', 'Confidence 2 (%)', 'Highly Unrealistic Case (Y)', 'Highly Uncertain (Y)', 'Profile Severity (1-5)'], axis=1)\n",
    "# reset index\n",
    "\n",
    "\n",
    "triage = triage.drop(triage.columns[triage.columns.get_loc('Exacerbation (Y/N)') + 1:], axis=1)\n",
    "\n",
    "# drop Vitals Severity (1-5)\n",
    "triage = triage.drop(columns=['Vitals Severity (1-5)'], axis=1)\n",
    "\n",
    "# convert all values where it say 'Unknown' to NaN\n",
    "triage = triage.replace('Unknown', np.nan)\n",
    "\n",
    "# turn Male into 1 and Female into 0\n",
    "triage = triage.replace('Male', 1)\n",
    "triage = triage.replace('Female', 0)\n",
    "\n",
    "# convert height from Height(ft) and Height(in) to Height(cm)\n",
    "triage['Height(cm)'] = triage['Height(ft)'] * 30.48 + triage['Height(in)'] * 2.54\n",
    "# drop Height(ft) and Height(in)\n",
    "triage = triage.drop(columns=['Height(ft)', 'Height(in)'], axis=1)\n",
    "\n",
    "# convert weight from Weight(lbs) to Weight(kg)\n",
    "triage['Weight(kg)'] = triage['Weight (lb)'] * 0.45359237\n",
    "# drop Weight(lbs)\n",
    "triage = triage.drop(columns=['Weight (lb)'], axis=1)\n",
    "\n",
    "# recalculate BMI for metric system\n",
    "triage['BMI'] = triage['Weight(kg)'] / (triage['Height(cm)'] / 100) ** 2\n",
    "\n",
    "# convert temperature from Temperature(F) to Temperature(C)\n",
    "triage['Current Temperature'] = (triage['Current Temperature'] - 32) * 5 / 9\n",
    "\n",
    "risk_factors = ()\n",
    "# add all unique values in columns Risk Factor 1-4 to risk_factors, make sure there are no duplicates\n",
    "for i in range(1, 5):\n",
    "    risk_factors += tuple(triage['Risk Factor ' + str(i)].unique())\n",
    "risk_factors = tuple(set(risk_factors))\n",
    "# remove NaN from risk_factors\n",
    "risk_factors = tuple(filter(lambda x: x == x, risk_factors))\n",
    "# create a column for each risk factor in risk_factors\n",
    "for risk_factor in risk_factors:\n",
    "    triage[risk_factor] = 0\n",
    "# set all values in the columns to 1 if the risk factor is present\n",
    "for i in range(1, 5):\n",
    "    for risk_factor in risk_factors:\n",
    "        triage.loc[triage['Risk Factor ' + str(i)] == risk_factor, risk_factor] = 1\n",
    "# drop Risk Factor 1-4\n",
    "triage = triage.drop(columns=['Risk Factor ' + str(i) for i in range(1, 5)], axis=1)\n",
    "\n",
    "medications = ()\n",
    "# split each value in 'Current Medication' at + and add the medication to the tuple if it is not already in there\n",
    "for medication in triage['Current Medication']:\n",
    "    # if the value is not empty\n",
    "    if medication == medication:\n",
    "        # split the value at + and add the medication to the tuple if it is not already in there\n",
    "        for med in str(medication).split('+'):\n",
    "            if med not in medications:\n",
    "                medications += (med,)\n",
    "\n",
    "# create a column for each medication in medications\n",
    "for medication in medications:\n",
    "    triage[medication] = 0\n",
    "# set all values in the columns to 1 if the medication is present\n",
    "for medication in medications:\n",
    "    triage.loc[triage['Current Medication'].str.contains(medication, na=False), medication] = 1\n",
    "# drop Current Medication\n",
    "triage = triage.drop(columns=['Current Medication'], axis=1)\n",
    "\n",
    "# turn Baseline Dyspnea (MMRC) into the number that the value contains\n",
    "triage['Baseline Dyspnea (MMRC)'] = triage['Baseline Dyspnea (MMRC)'].str.extract('(\\d+)')\n",
    "# turn COPD Gold Stage into the number that the value contains\n",
    "triage['COPD Gold Stage'] = triage['COPD Gold Stage'].str.extract('(\\d+)')\n",
    "# turn Recent Worsening in Symptoms? into categorical values for each unique values\n",
    "triage['Recent Worsening in Symptoms?'] = triage['Recent Worsening in Symptoms?'].astype('category').cat.codes\n",
    "# turn % Controller Medication Taken Over Last Week into categorical values for each unique values\n",
    "triage['% Controller Medication Taken Over Last Week'] = triage['% Controller Medication Taken Over Last Week'].astype('category').cat.codes\n",
    "# turn Short of Breath? into categorical values for each unique values\n",
    "triage['Short of Breath?'] = triage['Short of Breath?'].astype('category').cat.codes\n",
    "# turn Cough? into categorical values for each unique values\n",
    "triage['Cough?'] = triage['Cough?'].astype('category').cat.codes\n",
    "# turn Sputum? into categorical values for each unique values\n",
    "triage['Sputum?'] = triage['Sputum?'].astype('category').cat.codes\n",
    "# turn Wheezing? into categorical values for each unique values\n",
    "triage['Wheezing?'] = triage['Wheezing?'].astype('category').cat.codes\n",
    "\n",
    "# turn Current Dyspnea (MMRC) into the number that the value contains\n",
    "triage['Current Dyspnea (MMRC)'] = triage['Current Dyspnea (MMRC)'].str.extract('(\\d+)')\n",
    "\n",
    "# turn all values that contain 'No' into 0 and all values that contain 'Yes' into 1\n",
    "triage = triage.replace('No', 0)\n",
    "triage = triage.replace('Yes', 1)\n",
    "triage = triage.replace('Y', 1)\n",
    "triage = triage.replace('y', 0)\n",
    "triage = triage.replace('N', 0)\n",
    "\n",
    "# smoking status, exacerbations in prev. year, \n",
    "relevant_variables = ['Age', 'BMI', 'Baseline Dyspnea (MMRC)', 'Baseline FEV1 (% Predicted)', ]"
   ]
  },
  {
   "attachments": {},
   "cell_type": "markdown",
   "metadata": {},
   "source": [
    "# ADO\n",
    "\n",
    "The ADO uses age in years, dyspnoea (mMRC scale) and FEV1 % predicted"
   ]
  },
  {
   "cell_type": "code",
   "execution_count": 9,
   "metadata": {},
   "outputs": [
    {
     "name": "stderr",
     "output_type": "stream",
     "text": [
      "C:\\Users\\Daniel\\AppData\\Local\\Temp\\ipykernel_2236\\3654984551.py:4: SettingWithCopyWarning: \n",
      "A value is trying to be set on a copy of a slice from a DataFrame.\n",
      "Try using .loc[row_indexer,col_indexer] = value instead\n",
      "\n",
      "See the caveats in the documentation: https://pandas.pydata.org/pandas-docs/stable/user_guide/indexing.html#returning-a-view-versus-a-copy\n",
      "  ado['ADO'] = 0\n"
     ]
    }
   ],
   "source": [
    "# drop all rows where the required parameters are nan\n",
    "ado = harvard.dropna(subset=['percent_fev1'])\n",
    "# create a column for ADO score\n",
    "ado['ADO'] = 0\n",
    "# if age is between 50 and 59 add 2 points\n",
    "ado.loc[(ado['age'] >= 50) & (ado['age'] <= 59), 'ADO'] += 2\n",
    "# if age is between 60 and 69 add 4 points\n",
    "ado.loc[(ado['age'] >= 60) & (ado['age'] <= 69), 'ADO'] += 4\n",
    "# if age is between 70 and 79 add 5 points\n",
    "ado.loc[(ado['age'] >= 70) & (ado['age'] <= 79), 'ADO'] += 5\n",
    "# if age is above 80 add 7 points\n",
    "ado.loc[ado['age'] >= 80, 'ADO'] += 7\n",
    "# if mmrc is 3 add 2 points\n",
    "ado.loc[ado['mmrc'] == 3, 'ADO'] += 2\n",
    "# if mmrc is 4 add 3 points\n",
    "ado.loc[ado['mmrc'] == 4, 'ADO'] += 3\n",
    "# if fev1% is between 51 and 64 add 2 points\n",
    "ado.loc[(ado['percent_fev1'] >= 51) & (ado['percent_fev1'] <= 64), 'ADO'] += 2\n",
    "# if fev1% is between 36 and 50 add 3 points\n",
    "ado.loc[(ado['percent_fev1'] >= 36) & (ado['percent_fev1'] <= 50), 'ADO'] += 3\n",
    "# if fev1% is smaller than 35 add 4 points\n",
    "ado.loc[ado['percent_fev1'] < 35, 'ADO'] += 4"
   ]
  },
  {
   "cell_type": "code",
   "execution_count": 10,
   "metadata": {},
   "outputs": [
    {
     "name": "stdout",
     "output_type": "stream",
     "text": [
      "3    15\n",
      "2    14\n",
      "1    13\n",
      "4    10\n",
      "0     8\n",
      "5     8\n",
      "6     7\n",
      "7     2\n",
      "8     1\n",
      "9     1\n",
      "Name: BODE, dtype: int64\n"
     ]
    }
   ],
   "source": [
    "# drop all rows where the required parameters are nan\n",
    "bode = harvard.dropna(subset=['percent_fev1'])\n",
    "bode = bode.dropna(subset=['6MWT'])\n",
    "bode = bode.dropna(subset=['height'])\n",
    "bode = bode.dropna(subset=['weight'])\n",
    "\n",
    "# create a column for BODE score\n",
    "bode['BODE'] = 0\n",
    "\n",
    "bode.loc[(bode['percent_fev1'] >= 50) & (bode['percent_fev1'] <= 64), 'BODE'] += 1\n",
    "bode.loc[(bode['percent_fev1'] >= 36) & (bode['percent_fev1'] <= 49), 'BODE'] += 2\n",
    "bode.loc[(bode['percent_fev1'] <= 35), 'BODE'] += 3\n",
    "\n",
    "bode.loc[(bode['mmrc'] == 2), 'BODE'] += 1\n",
    "bode.loc[(bode['mmrc'] == 3), 'BODE'] += 2\n",
    "bode.loc[(bode['mmrc'] == 4), 'BODE'] += 3\n",
    "\n",
    "# calculate bmi\n",
    "bode['bmi'] = bode['weight'] / ((bode['height'] / 100) ** 2)\n",
    "# drop height and weight\n",
    "bode = bode.drop(['height', 'weight'], axis=1)\n",
    "bode.loc[(bode['bmi'] <= 21), 'BODE'] += 1\n",
    "\n",
    "bode.loc[(bode['6MWT'] >= 250) & (bode['6MWT'] <= 349), 'BODE'] += 1\n",
    "bode.loc[(bode['6MWT'] >= 150) & (bode['6MWT'] <= 249), 'BODE'] += 2\n",
    "bode.loc[(bode['6MWT'] <= 149), 'BODE'] += 3\n",
    "\n",
    "print(bode['BODE'].value_counts())\n"
   ]
  },
  {
   "attachments": {},
   "cell_type": "markdown",
   "metadata": {},
   "source": [
    "# DOSE\n",
    "Dose is calculated from mMRC, FEV1% pred, smoking status, exacerbations in previous year"
   ]
  },
  {
   "cell_type": "code",
   "execution_count": 11,
   "metadata": {},
   "outputs": [],
   "source": [
    "dose = harvard.dropna(subset=['percent_fev1'])\n",
    "dose = dose.dropna(subset=['mmrc'])\n",
    "dose = dose.dropna(subset=['prev_exacerbations'])\n",
    "\n",
    "dose['DOSE'] = 0\n",
    "\n",
    "dose.loc[(dose['mmrc'] == 2), 'DOSE'] += 1\n",
    "dose.loc[(dose['mmrc'] == 3), 'DOSE'] += 2\n",
    "dose.loc[(dose['mmrc'] == 4), 'DOSE'] += 3\n",
    "\n",
    "dose.loc[(dose['percent_fev1'] >= 30) & (dose['percent_fev1'] <= 49), 'DOSE'] += 1\n",
    "dose.loc[(dose['percent_fev1'] < 30), 'DOSE'] += 2\n",
    "\n",
    "# all participants in harvard study were smokers\n",
    "dose['DOSE'] += 1\n",
    "\n",
    "# prev exacerbations is badly categorized. For now we assume that category 3 (between 2 and 5 exacerbations) is mostly 2 - 3 exacerbations\n",
    "dose.loc[(dose['prev_exacerbations'] == 3), 'DOSE'] += 2"
   ]
  },
  {
   "attachments": {},
   "cell_type": "markdown",
   "metadata": {},
   "source": [
    "# BCSS\n",
    "\n",
    "Composed of 3 questions: \"HOW MUCH DIFFICULTY DID YOU HAVE BREATHING TODAY?\", \"HOW WAS YOUR COUGH TODAY?\" and \"HOW MUCH TROUBLE DID YOU HAVE DUE TO SPUTUM TODAY?\"\n",
    "\n",
    "Each question can be answered from 0 (None) to 4 (constant / severe)\n",
    "\n",
    "Because BCSS was not asked directly surrogate features will be used"
   ]
  },
  {
   "cell_type": "code",
   "execution_count": 12,
   "metadata": {},
   "outputs": [
    {
     "name": "stdout",
     "output_type": "stream",
     "text": [
      "      mmrc   age  gender  exacerbation   6MWT  height  weight  \\\n",
      "0      1.0  55.0     1.0             0  335.0   170.0   117.0   \n",
      "18     0.0  63.0     1.0             0  335.0   165.0   113.0   \n",
      "33     1.0  67.0     2.0             0  273.0   155.0    84.0   \n",
      "54     1.0  73.0     1.0             0  510.0   170.0    60.0   \n",
      "72     1.0  52.0     2.0             0    NaN   167.0    80.0   \n",
      "...    ...   ...     ...           ...    ...     ...     ...   \n",
      "2672   1.0  85.0     2.0             0  363.0   163.0    65.0   \n",
      "2691   0.0  57.0     1.0             0  262.0   170.0    77.0   \n",
      "2720   4.0  48.0     2.0             0    NaN     NaN     NaN   \n",
      "2729   3.0  72.0     1.0             0  160.0   163.0    56.0   \n",
      "2777   1.0  60.0     1.0             0    NaN   177.0    74.0   \n",
      "\n",
      "      prev_exacerbations  sgrq02  sgrq03  sgrq04  hypertension  diabetes  \\\n",
      "0                    4.0     2.0     2.0     1.0           1.0       0.0   \n",
      "18                   1.0     5.0     5.0     5.0           1.0       1.0   \n",
      "33                   3.0     5.0     5.0     1.0           1.0       1.0   \n",
      "54                   2.0     1.0     1.0     4.0           0.0       0.0   \n",
      "72                   3.0     3.0     5.0     3.0           0.0       0.0   \n",
      "...                  ...     ...     ...     ...           ...       ...   \n",
      "2672                 1.0     5.0     5.0     1.0           1.0       0.0   \n",
      "2691                 1.0     2.0     4.0     2.0           1.0       0.0   \n",
      "2720                 3.0     1.0     1.0     1.0           1.0       1.0   \n",
      "2729                 1.0     1.0     1.0     1.0           0.0       0.0   \n",
      "2777                 3.0     1.0     1.0     1.0           0.0       0.0   \n",
      "\n",
      "      heart_failure  fever  dyspnoea  percent_fev1  BCSS  \n",
      "0               0.0    1.0       0.0          58.0     0  \n",
      "18              0.0    1.0       1.0          51.0     0  \n",
      "33              1.0    1.0       1.0          70.0     0  \n",
      "54              0.0    1.0       1.0          46.0     0  \n",
      "72              0.0    1.0       0.0           NaN     0  \n",
      "...             ...    ...       ...           ...   ...  \n",
      "2672            0.0    1.0       1.0          44.0     0  \n",
      "2691            0.0    1.0       0.0          72.0     0  \n",
      "2720            0.0    0.0       0.0           NaN     0  \n",
      "2729            0.0    1.0       1.0          25.0     0  \n",
      "2777            0.0    1.0       0.0          81.0     0  \n",
      "\n",
      "[147 rows x 18 columns]\n"
     ]
    }
   ],
   "source": [
    "bcss = harvard.dropna(subset=['sgrq02'])\n",
    "bcss = bcss.dropna(subset=['sgrq03'])\n",
    "bcss = bcss.dropna(subset=['sgrq04']) # 'sgrq02','sgrq03','sgrq04'\n",
    "\n",
    "bcss['BCSS'] = 0\n",
    "\n",
    "print(bcss)\n",
    "\n",
    "# reverse assignment of values (lower score is better)\n",
    "bcss.loc[(bcss['sgrq02'] == 4), 'BCSS'] += 1\n",
    "bcss.loc[(bcss['sgrq02'] == 3), 'BCSS'] += 2\n",
    "bcss.loc[(bcss['sgrq02'] == 2), 'BCSS'] += 3\n",
    "bcss.loc[(bcss['sgrq02'] == 1), 'BCSS'] += 4\n",
    "\n",
    "bcss.loc[(bcss['sgrq03'] == 4), 'BCSS'] += 1\n",
    "bcss.loc[(bcss['sgrq03'] == 3), 'BCSS'] += 2\n",
    "bcss.loc[(bcss['sgrq03'] == 2), 'BCSS'] += 3\n",
    "bcss.loc[(bcss['sgrq03'] == 1), 'BCSS'] += 4\n",
    "\n",
    "bcss.loc[(bcss['sgrq04'] == 4), 'BCSS'] += 1\n",
    "bcss.loc[(bcss['sgrq04'] == 3), 'BCSS'] += 2\n",
    "bcss.loc[(bcss['sgrq04'] == 2), 'BCSS'] += 3\n",
    "bcss.loc[(bcss['sgrq04'] == 1), 'BCSS'] += 4\n"
   ]
  },
  {
   "cell_type": "code",
   "execution_count": 13,
   "metadata": {},
   "outputs": [],
   "source": [
    "# prev exacerbations\n",
    "prev_exa = harvard.dropna(subset=['prev_exacerbations'])\n",
    "prev_exa['prev_exacerbations'] = prev_exa['prev_exacerbations'].astype(int) -1"
   ]
  },
  {
   "attachments": {},
   "cell_type": "markdown",
   "metadata": {},
   "source": [
    "# CAT\n",
    "\n",
    "The has questions on coughing, phlegm, chest tightness, breathless when walking up a hill/stairs, limitations in doing activities at home, leaving home, sleep and energy"
   ]
  },
  {
   "cell_type": "code",
   "execution_count": 14,
   "metadata": {},
   "outputs": [],
   "source": [
    "# cough: sgrq02, \n",
    "# phlegm: sgrq03, \n",
    "# cheset tight: exact6\n",
    "# breathless hill: sgrq18 & mmrc = 2\n",
    "# impute from sgrq questions\n",
    "# sleep: edanx49 | psqi05 | psqi14 | psqi18 | sgrq24 | \n",
    "# energy: An5 | FATEXP18 | FATEXP24 | FATEXP42 | "
   ]
  },
  {
   "attachments": {},
   "cell_type": "markdown",
   "metadata": {},
   "source": [
    "# Custom Model\n",
    "Taking the best model from all the other datasets and applying it"
   ]
  },
  {
   "cell_type": "code",
   "execution_count": 15,
   "metadata": {},
   "outputs": [
    {
     "name": "stdout",
     "output_type": "stream",
     "text": [
      "0.5625\n"
     ]
    }
   ],
   "source": [
    "from sklearn.ensemble import RandomForestClassifier\n",
    "# import naive bayes\n",
    "from sklearn.naive_bayes import GaussianNB\n",
    "# import knn\n",
    "from sklearn.neighbors import KNeighborsClassifier\n",
    "\n",
    "exaggerate_preprocessed = pd.read_csv('exaggerate/data/harvard_cv.csv', sep=\";\")\n",
    "subset = ['age', 'fever', 'dyspnoea', 'target']\n",
    "exaggerate_preprocessed = exaggerate_preprocessed[subset]\n",
    "\n",
    "# train a random forest on the data\n",
    "clf = KNeighborsClassifier(n_neighbors=3)\n",
    "clf.fit(exaggerate_preprocessed.drop('target', axis=1), exaggerate_preprocessed['target'])\n",
    "\n",
    "# we need to make sure that the data is in the same format as the data that was used to train the model\n",
    "harvard_preprocessed = pd.read_csv('harvard/data/exaggerate_cv.csv', sep=\";\")\n",
    "harvard_preprocessed = harvard_preprocessed[subset]\n",
    "\n",
    "# get accuracy\n",
    "print(clf.score(harvard_preprocessed.drop('target', axis=1), harvard_preprocessed['target']))"
   ]
  },
  {
   "cell_type": "code",
   "execution_count": 16,
   "metadata": {},
   "outputs": [
    {
     "data": {
      "image/png": "[encoded data removed]",
      "text/plain": [
       "<Figure size 640x480 with 1 Axes>"
      ]
     },
     "metadata": {},
     "output_type": "display_data"
    }
   ],
   "source": [
    "# fit logistic regression model to ADO score\n",
    "from sklearn.linear_model import LogisticRegression\n",
    "from sklearn.model_selection import train_test_split\n",
    "from sklearn.metrics import accuracy_score\n",
    "from sklearn.metrics import auc, roc_auc_score\n",
    "from sklearn.metrics import roc_curve\n",
    "\n",
    "ado_target = ado['exacerbation']\n",
    "ado_train = ado['ADO']\n",
    "bode_target = bode['exacerbation']\n",
    "bode_train = bode['BODE']\n",
    "dose_train = dose['DOSE']\n",
    "dose_target = dose['exacerbation']\n",
    "bcss_train = bcss['BCSS']\n",
    "bcss_target = bcss['exacerbation']\n",
    "prev_exa_train = harvard['prev_exacerbations']\n",
    "prev_exa_target = harvard['exacerbation']\n",
    "\n",
    "def calculate_tpr_fpr(data, labels):\n",
    "    # calculate the cutoff points based on the highest value in the data\n",
    "    cutoffs = np.linspace(0, np.max([ado_train.max(), bode_train.max(), dose_train.max(), bcss_train.max(), prev_exa_train.max()]), 100)\n",
    "    # create empty lists for true positive rate and false positive rate\n",
    "    tpr_list, fpr_list = [], []\n",
    "    # for every cut off point\n",
    "    for cutoff in cutoffs:\n",
    "        # make a prediction based on the cut off point\n",
    "        prediction = (data >= cutoff)\n",
    "        # calculate the true positive rate\n",
    "        tpr = np.sum((prediction == 1) & (labels == 1)) / np.sum(labels == 1)\n",
    "        # calculate the false positive rate\n",
    "        fpr = np.sum((prediction == 1) & (labels == 0)) / np.sum(labels == 0)\n",
    "        # add the true positive rate to the list\n",
    "        tpr_list.append(tpr)\n",
    "        # add the false positive rate to the list\n",
    "        fpr_list.append(fpr)\n",
    "    best_cutoff = cutoffs[np.argmax(np.array(tpr_list) - np.array(fpr_list))]\n",
    "    prediction = (data >= best_cutoff)\n",
    "    best_accuracy = accuracy_score(labels, prediction)\n",
    "    return tpr_list, fpr_list, best_accuracy\n",
    "\n",
    "ado_tpr, ado_fpr, ado_accuracy = calculate_tpr_fpr(ado_train, ado_target)\n",
    "bode_tpr, bode_fpr, bode_accuracy  = calculate_tpr_fpr(bode_train, bode_target)\n",
    "dose_tpr, dose_fpr, dose_accuracy  = calculate_tpr_fpr(dose_train, dose_target)\n",
    "bcss_tpr, bcss_fpr, bcss_accuracy  = calculate_tpr_fpr(bcss_train, bcss_target)\n",
    "prev_exa_tpr, prev_exa_fpr, prev_exa_accuracy  = calculate_tpr_fpr(prev_exa_train, prev_exa_target)\n",
    "\n",
    "# plot roc from loaded sklearn model\n",
    "custom_fpr, custom_tpr, _ = roc_curve(harvard_preprocessed['target'], clf.predict_proba(harvard_preprocessed.drop('target', axis=1))[:,1])\n",
    "custom_accuracy = accuracy_score(harvard_preprocessed['target'], clf.predict(harvard_preprocessed.drop('target', axis=1)))\n",
    "\n",
    "\n",
    "\n",
    "\n",
    "# plot the ROC curve\n",
    "plt.plot(ado_fpr, ado_tpr)\n",
    "plt.plot(bode_fpr, bode_tpr)\n",
    "plt.plot(dose_fpr, dose_tpr)\n",
    "plt.plot(bcss_fpr, bcss_tpr)\n",
    "plt.plot(prev_exa_fpr, prev_exa_tpr)\n",
    "plt.plot(custom_fpr, custom_tpr)\n",
    "\n",
    "# plot the best cutoff point\n",
    "# plt.plot(ado_fpr[np.argmax(np.array(ado_tpr) - np.array(ado_fpr))], ado_tpr[np.argmax(np.array(ado_tpr) - np.array(ado_fpr))], 'ro')\n",
    "# plt.plot(bode_fpr[np.argmax(np.array(bode_tpr) - np.array(bode_fpr))], bode_tpr[np.argmax(np.array(bode_tpr) - np.array(bode_fpr))], 'ro')\n",
    "# plt.plot(dose_fpr[np.argmax(np.array(dose_tpr) - np.array(dose_fpr))], dose_tpr[np.argmax(np.array(dose_tpr) - np.array(dose_fpr))], 'ro')\n",
    "# plt.plot(bcss_fpr[np.argmax(np.array(bcss_tpr) - np.array(bcss_fpr))], bcss_tpr[np.argmax(np.array(bcss_tpr) - np.array(bcss_fpr))], 'ro')\n",
    "plt.xlabel('False Positive Rate')\n",
    "plt.ylabel('True Positive Rate')\n",
    "# add auc and accuracy in the legend make the last one fat\n",
    "plt.legend(['ADO (AUC = %.2f, Acc. = %.2f)' % (auc(ado_fpr, ado_tpr), ado_accuracy),\n",
    "            'BODE (AUC = %.2f, Acc. = %.2f)' % (auc(bode_fpr, bode_tpr), bode_accuracy), \n",
    "            'DOSE (AUC = %.2f, Acc. = %.2f)' % (auc(dose_fpr, dose_tpr), dose_accuracy),\n",
    "            'BCSS (AUC = %.2f, Acc. = %.2f)' % (auc(bcss_fpr, bcss_tpr), bcss_accuracy),\n",
    "            'PREV_EXA (AUC = %.2f, Acc. = %.2f)' % (auc(prev_exa_fpr, prev_exa_tpr), prev_exa_accuracy),\n",
    "            'KNN (AUC = %.2f, Acc. = %.2f)' % (auc(custom_fpr, custom_tpr), custom_accuracy)\n",
    "            ])\n",
    "plt.title('ROC Curve Harvard Dataset')\n",
    "# save as svg file\n",
    "plt.savefig('plots/benchmarking_harvard.svg')\n",
    "plt.show()"
   ]
  },
  {
   "attachments": {},
   "cell_type": "markdown",
   "metadata": {},
   "source": [
    "# Triage"
   ]
  },
  {
   "attachments": {},
   "cell_type": "markdown",
   "metadata": {},
   "source": [
    "## ADO"
   ]
  },
  {
   "attachments": {},
   "cell_type": "markdown",
   "metadata": {},
   "source": [
    "## DOSE"
   ]
  }
 ],
 "metadata": {
  "kernelspec": {
   "display_name": "Python 3",
   "language": "python",
   "name": "python3"
  },
  "language_info": {
   "codemirror_mode": {
    "name": "ipython",
    "version": 3
   },
   "file_extension": ".py",
   "mimetype": "text/x-python",
   "name": "python",
   "nbconvert_exporter": "python",
   "pygments_lexer": "ipython3",
   "version": "3.10.7"
  },
  "orig_nbformat": 4
 },
 "nbformat": 4,
 "nbformat_minor": 2
}
